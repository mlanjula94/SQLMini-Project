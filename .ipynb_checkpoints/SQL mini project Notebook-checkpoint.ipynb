{
 "cells": [
  {
   "cell_type": "code",
   "execution_count": 1,
   "id": "1f1f6325",
   "metadata": {},
   "outputs": [],
   "source": [
    "# Import necessary module\n",
    "from sqlalchemy import create_engine\n",
    "import pandas as pd"
   ]
  },
  {
   "cell_type": "code",
   "execution_count": 2,
   "id": "fa1c1caf",
   "metadata": {},
   "outputs": [],
   "source": [
    "engine = create_engine('sqlite:///sqlite_db_pythonsqlite.db')"
   ]
  },
  {
   "cell_type": "code",
   "execution_count": 3,
   "id": "6b4df240",
   "metadata": {},
   "outputs": [
    {
     "name": "stderr",
     "output_type": "stream",
     "text": [
      "C:\\Users\\mlanj\\AppData\\Local\\Temp/ipykernel_8324/2273142574.py:1: SADeprecationWarning: The Engine.table_names() method is deprecated and will be removed in a future release.  Please refer to Inspector.get_table_names(). (deprecated since: 1.4)\n",
      "  table_names = engine.table_names()\n"
     ]
    }
   ],
   "source": [
    "table_names = engine.table_names()"
   ]
  },
  {
   "cell_type": "code",
   "execution_count": 4,
   "id": "8dedeb5b",
   "metadata": {},
   "outputs": [
    {
     "name": "stdout",
     "output_type": "stream",
     "text": [
      "['Bookings', 'Facilities', 'Members']\n"
     ]
    }
   ],
   "source": [
    "print(table_names)"
   ]
  },
  {
   "cell_type": "code",
   "execution_count": 10,
   "id": "cc26d173",
   "metadata": {},
   "outputs": [],
   "source": [
    "with engine.connect() as con:\n",
    "    rs10 = con.execute(\"SELECT name, SUM(Cost) as revenue \" +\n",
    "                     \"FROM(SELECT name,CASE WHEN b.memid = 0 THEN slots * guestcost \" +\n",
    "                     \"ELSE slots * membercost END AS Cost \" +\n",
    "                     \"FROM Bookings as b INNER JOIN `Facilities` as f ON  b.facid =  f.facid ORDER BY Cost DESC) as cost \" +\n",
    "                     \"GROUP BY name;\")\n",
    "    df10 = pd.DataFrame(rs10.fetchall())\n",
    "    df10.columns = rs10.keys()"
   ]
  },
  {
   "cell_type": "code",
   "execution_count": 7,
   "id": "f6533a13",
   "metadata": {},
   "outputs": [
    {
     "name": "stdout",
     "output_type": "stream",
     "text": [
      "9\n"
     ]
    }
   ],
   "source": [
    "print(len(df))"
   ]
  },
  {
   "cell_type": "code",
   "execution_count": 8,
   "id": "270d4584",
   "metadata": {},
   "outputs": [
    {
     "name": "stdout",
     "output_type": "stream",
     "text": [
      "            name  revenue\n",
      "3     Pool Table    270.0\n",
      "4  Snooker Table    240.0\n",
      "6   Table Tennis    180.0\n"
     ]
    }
   ],
   "source": [
    "print(df[df.revenue<1000])"
   ]
  },
  {
   "cell_type": "code",
   "execution_count": 18,
   "id": "329720fe",
   "metadata": {},
   "outputs": [],
   "source": [
    "with engine.connect() as con:\n",
    "    rs11 = con.execute(\"SELECT ( m1.firstname || ' ' || m1.surname) AS MemberName, \" +\n",
    "                     \"( m2.firstname || ' ' || m2.surname) AS Recomendedby \" +\n",
    "                     \"FROM Members m1 \" +\n",
    "                     \"INNER JOIN Members m2 \" +\n",
    "                     \"ON m1.memid = m2.recommendedby \" +\n",
    "                     \"ORDER BY MemberName;\")\n",
    "    df11 = pd.DataFrame(rs11.fetchall())\n",
    "    df11.columns = rs11.keys()\n",
    "    "
   ]
  },
  {
   "cell_type": "code",
   "execution_count": 19,
   "id": "f875397c",
   "metadata": {},
   "outputs": [
    {
     "name": "stdout",
     "output_type": "stream",
     "text": [
      "           MemberName             Recomendedby\n",
      "0        Burton Tracy          Ponder Stibbons\n",
      "1        Darren Smith          Janice Joplette\n",
      "2        Darren Smith           Gerald Butters\n",
      "3        Darren Smith             Charles Owen\n",
      "4        Darren Smith               Jack Smith\n",
      "5        Darren Smith           Anna Mackenzie\n",
      "6         David Jones            Douglas Jones\n",
      "7      Florence Bader         Ramnaresh Sarwin\n",
      "8      Gerald Butters          Matthew Genting\n",
      "9     Janice Joplette               Nancy Dare\n",
      "10    Janice Joplette              David Jones\n",
      "11     Jemima Farrell            Timothy Baker\n",
      "12     Jemima Farrell             David Pinker\n",
      "13    Matthew Genting         Henrietta Rumney\n",
      "14  Millicent Purview                John Hunt\n",
      "15    Ponder Stibbons               Anne Baker\n",
      "16    Ponder Stibbons           Florence Bader\n",
      "17         Tim Rownam               Tim Boothe\n",
      "18      Timothy Baker              Joan Coplin\n",
      "19        Tracy Smith  Henry Worthington-Smyth\n",
      "20        Tracy Smith        Millicent Purview\n",
      "21        Tracy Smith            Erica Crumpet\n"
     ]
    }
   ],
   "source": [
    "print(df11)"
   ]
  },
  {
   "cell_type": "code",
   "execution_count": 27,
   "id": "62f2574c",
   "metadata": {},
   "outputs": [],
   "source": [
    "with engine.connect() as con:\n",
    "    rs12 = con.execute(\"SELECT DISTINCT name, firstname, surname FROM `Bookings` b \" +\n",
    "                     \"INNER JOIN `Facilities` as f ON  b.facid =  f.facid \" +\n",
    "                     \"INNER JOIN `Members` as m ON m.memid = b.memid \" +\n",
    "                     \"WHERE b.memid > 0 \" +\n",
    "                     \"ORDER BY b.memid \")\n",
    "    df12 = pd.DataFrame(rs12.fetchall())\n",
    "    df12.columns = rs12.keys()"
   ]
  },
  {
   "cell_type": "code",
   "execution_count": 28,
   "id": "abf1eb9a",
   "metadata": {},
   "outputs": [
    {
     "data": {
      "text/html": [
       "<div>\n",
       "<style scoped>\n",
       "    .dataframe tbody tr th:only-of-type {\n",
       "        vertical-align: middle;\n",
       "    }\n",
       "\n",
       "    .dataframe tbody tr th {\n",
       "        vertical-align: top;\n",
       "    }\n",
       "\n",
       "    .dataframe thead th {\n",
       "        text-align: right;\n",
       "    }\n",
       "</style>\n",
       "<table border=\"1\" class=\"dataframe\">\n",
       "  <thead>\n",
       "    <tr style=\"text-align: right;\">\n",
       "      <th></th>\n",
       "      <th>name</th>\n",
       "      <th>firstname</th>\n",
       "      <th>surname</th>\n",
       "    </tr>\n",
       "  </thead>\n",
       "  <tbody>\n",
       "    <tr>\n",
       "      <th>0</th>\n",
       "      <td>Table Tennis</td>\n",
       "      <td>Darren</td>\n",
       "      <td>Smith</td>\n",
       "    </tr>\n",
       "    <tr>\n",
       "      <th>1</th>\n",
       "      <td>Massage Room 1</td>\n",
       "      <td>Darren</td>\n",
       "      <td>Smith</td>\n",
       "    </tr>\n",
       "    <tr>\n",
       "      <th>2</th>\n",
       "      <td>Snooker Table</td>\n",
       "      <td>Darren</td>\n",
       "      <td>Smith</td>\n",
       "    </tr>\n",
       "    <tr>\n",
       "      <th>3</th>\n",
       "      <td>Pool Table</td>\n",
       "      <td>Darren</td>\n",
       "      <td>Smith</td>\n",
       "    </tr>\n",
       "    <tr>\n",
       "      <th>4</th>\n",
       "      <td>Squash Court</td>\n",
       "      <td>Darren</td>\n",
       "      <td>Smith</td>\n",
       "    </tr>\n",
       "    <tr>\n",
       "      <th>...</th>\n",
       "      <td>...</td>\n",
       "      <td>...</td>\n",
       "      <td>...</td>\n",
       "    </tr>\n",
       "    <tr>\n",
       "      <th>197</th>\n",
       "      <td>Squash Court</td>\n",
       "      <td>John</td>\n",
       "      <td>Hunt</td>\n",
       "    </tr>\n",
       "    <tr>\n",
       "      <th>198</th>\n",
       "      <td>Badminton Court</td>\n",
       "      <td>Erica</td>\n",
       "      <td>Crumpet</td>\n",
       "    </tr>\n",
       "    <tr>\n",
       "      <th>199</th>\n",
       "      <td>Massage Room 1</td>\n",
       "      <td>Erica</td>\n",
       "      <td>Crumpet</td>\n",
       "    </tr>\n",
       "    <tr>\n",
       "      <th>200</th>\n",
       "      <td>Tennis Court 1</td>\n",
       "      <td>Erica</td>\n",
       "      <td>Crumpet</td>\n",
       "    </tr>\n",
       "    <tr>\n",
       "      <th>201</th>\n",
       "      <td>Table Tennis</td>\n",
       "      <td>Erica</td>\n",
       "      <td>Crumpet</td>\n",
       "    </tr>\n",
       "  </tbody>\n",
       "</table>\n",
       "<p>202 rows × 3 columns</p>\n",
       "</div>"
      ],
      "text/plain": [
       "                name firstname  surname\n",
       "0       Table Tennis    Darren    Smith\n",
       "1     Massage Room 1    Darren    Smith\n",
       "2      Snooker Table    Darren    Smith\n",
       "3         Pool Table    Darren    Smith\n",
       "4       Squash Court    Darren    Smith\n",
       "..               ...       ...      ...\n",
       "197     Squash Court      John     Hunt\n",
       "198  Badminton Court     Erica  Crumpet\n",
       "199   Massage Room 1     Erica  Crumpet\n",
       "200   Tennis Court 1     Erica  Crumpet\n",
       "201     Table Tennis     Erica  Crumpet\n",
       "\n",
       "[202 rows x 3 columns]"
      ]
     },
     "execution_count": 28,
     "metadata": {},
     "output_type": "execute_result"
    }
   ],
   "source": [
    "df12"
   ]
  },
  {
   "cell_type": "code",
   "execution_count": 37,
   "id": "f36b377f",
   "metadata": {},
   "outputs": [],
   "source": [
    "with engine.connect() as con:\n",
    "    rs13 = con.execute(\"SELECT DISTINCT name, SUBSTR(starttime,6,2) as month FROM `Bookings` b \" +\n",
    "                     \"INNER JOIN `Facilities` as f ON  b.facid =  f.facid \" +\n",
    "                     \"INNER JOIN `Members` as m ON m.memid = b.memid \" +\n",
    "                     \"WHERE b.memid > 0 \" +\n",
    "                     \"ORDER BY month \")\n",
    "    df13 = pd.DataFrame(rs13.fetchall())\n",
    "    df13.columns = rs13.keys()"
   ]
  },
  {
   "cell_type": "code",
   "execution_count": 38,
   "id": "0bd87e79",
   "metadata": {},
   "outputs": [
    {
     "data": {
      "text/html": [
       "<div>\n",
       "<style scoped>\n",
       "    .dataframe tbody tr th:only-of-type {\n",
       "        vertical-align: middle;\n",
       "    }\n",
       "\n",
       "    .dataframe tbody tr th {\n",
       "        vertical-align: top;\n",
       "    }\n",
       "\n",
       "    .dataframe thead th {\n",
       "        text-align: right;\n",
       "    }\n",
       "</style>\n",
       "<table border=\"1\" class=\"dataframe\">\n",
       "  <thead>\n",
       "    <tr style=\"text-align: right;\">\n",
       "      <th></th>\n",
       "      <th>name</th>\n",
       "      <th>month</th>\n",
       "    </tr>\n",
       "  </thead>\n",
       "  <tbody>\n",
       "    <tr>\n",
       "      <th>0</th>\n",
       "      <td>Table Tennis</td>\n",
       "      <td>07</td>\n",
       "    </tr>\n",
       "    <tr>\n",
       "      <th>1</th>\n",
       "      <td>Massage Room 1</td>\n",
       "      <td>07</td>\n",
       "    </tr>\n",
       "    <tr>\n",
       "      <th>2</th>\n",
       "      <td>Snooker Table</td>\n",
       "      <td>07</td>\n",
       "    </tr>\n",
       "    <tr>\n",
       "      <th>3</th>\n",
       "      <td>Pool Table</td>\n",
       "      <td>07</td>\n",
       "    </tr>\n",
       "    <tr>\n",
       "      <th>4</th>\n",
       "      <td>Tennis Court 1</td>\n",
       "      <td>07</td>\n",
       "    </tr>\n",
       "    <tr>\n",
       "      <th>5</th>\n",
       "      <td>Squash Court</td>\n",
       "      <td>07</td>\n",
       "    </tr>\n",
       "    <tr>\n",
       "      <th>6</th>\n",
       "      <td>Badminton Court</td>\n",
       "      <td>07</td>\n",
       "    </tr>\n",
       "    <tr>\n",
       "      <th>7</th>\n",
       "      <td>Tennis Court 2</td>\n",
       "      <td>07</td>\n",
       "    </tr>\n",
       "    <tr>\n",
       "      <th>8</th>\n",
       "      <td>Massage Room 2</td>\n",
       "      <td>07</td>\n",
       "    </tr>\n",
       "    <tr>\n",
       "      <th>9</th>\n",
       "      <td>Tennis Court 1</td>\n",
       "      <td>08</td>\n",
       "    </tr>\n",
       "    <tr>\n",
       "      <th>10</th>\n",
       "      <td>Tennis Court 2</td>\n",
       "      <td>08</td>\n",
       "    </tr>\n",
       "    <tr>\n",
       "      <th>11</th>\n",
       "      <td>Badminton Court</td>\n",
       "      <td>08</td>\n",
       "    </tr>\n",
       "    <tr>\n",
       "      <th>12</th>\n",
       "      <td>Table Tennis</td>\n",
       "      <td>08</td>\n",
       "    </tr>\n",
       "    <tr>\n",
       "      <th>13</th>\n",
       "      <td>Massage Room 1</td>\n",
       "      <td>08</td>\n",
       "    </tr>\n",
       "    <tr>\n",
       "      <th>14</th>\n",
       "      <td>Massage Room 2</td>\n",
       "      <td>08</td>\n",
       "    </tr>\n",
       "    <tr>\n",
       "      <th>15</th>\n",
       "      <td>Squash Court</td>\n",
       "      <td>08</td>\n",
       "    </tr>\n",
       "    <tr>\n",
       "      <th>16</th>\n",
       "      <td>Snooker Table</td>\n",
       "      <td>08</td>\n",
       "    </tr>\n",
       "    <tr>\n",
       "      <th>17</th>\n",
       "      <td>Pool Table</td>\n",
       "      <td>08</td>\n",
       "    </tr>\n",
       "    <tr>\n",
       "      <th>18</th>\n",
       "      <td>Tennis Court 1</td>\n",
       "      <td>09</td>\n",
       "    </tr>\n",
       "    <tr>\n",
       "      <th>19</th>\n",
       "      <td>Tennis Court 2</td>\n",
       "      <td>09</td>\n",
       "    </tr>\n",
       "    <tr>\n",
       "      <th>20</th>\n",
       "      <td>Badminton Court</td>\n",
       "      <td>09</td>\n",
       "    </tr>\n",
       "    <tr>\n",
       "      <th>21</th>\n",
       "      <td>Table Tennis</td>\n",
       "      <td>09</td>\n",
       "    </tr>\n",
       "    <tr>\n",
       "      <th>22</th>\n",
       "      <td>Massage Room 1</td>\n",
       "      <td>09</td>\n",
       "    </tr>\n",
       "    <tr>\n",
       "      <th>23</th>\n",
       "      <td>Massage Room 2</td>\n",
       "      <td>09</td>\n",
       "    </tr>\n",
       "    <tr>\n",
       "      <th>24</th>\n",
       "      <td>Squash Court</td>\n",
       "      <td>09</td>\n",
       "    </tr>\n",
       "    <tr>\n",
       "      <th>25</th>\n",
       "      <td>Snooker Table</td>\n",
       "      <td>09</td>\n",
       "    </tr>\n",
       "    <tr>\n",
       "      <th>26</th>\n",
       "      <td>Pool Table</td>\n",
       "      <td>09</td>\n",
       "    </tr>\n",
       "  </tbody>\n",
       "</table>\n",
       "</div>"
      ],
      "text/plain": [
       "               name month\n",
       "0      Table Tennis    07\n",
       "1    Massage Room 1    07\n",
       "2     Snooker Table    07\n",
       "3        Pool Table    07\n",
       "4    Tennis Court 1    07\n",
       "5      Squash Court    07\n",
       "6   Badminton Court    07\n",
       "7    Tennis Court 2    07\n",
       "8    Massage Room 2    07\n",
       "9    Tennis Court 1    08\n",
       "10   Tennis Court 2    08\n",
       "11  Badminton Court    08\n",
       "12     Table Tennis    08\n",
       "13   Massage Room 1    08\n",
       "14   Massage Room 2    08\n",
       "15     Squash Court    08\n",
       "16    Snooker Table    08\n",
       "17       Pool Table    08\n",
       "18   Tennis Court 1    09\n",
       "19   Tennis Court 2    09\n",
       "20  Badminton Court    09\n",
       "21     Table Tennis    09\n",
       "22   Massage Room 1    09\n",
       "23   Massage Room 2    09\n",
       "24     Squash Court    09\n",
       "25    Snooker Table    09\n",
       "26       Pool Table    09"
      ]
     },
     "execution_count": 38,
     "metadata": {},
     "output_type": "execute_result"
    }
   ],
   "source": [
    "df13"
   ]
  },
  {
   "cell_type": "code",
   "execution_count": null,
   "id": "401d0301",
   "metadata": {},
   "outputs": [],
   "source": []
  }
 ],
 "metadata": {
  "kernelspec": {
   "display_name": "Python 3 (ipykernel)",
   "language": "python",
   "name": "python3"
  },
  "language_info": {
   "codemirror_mode": {
    "name": "ipython",
    "version": 3
   },
   "file_extension": ".py",
   "mimetype": "text/x-python",
   "name": "python",
   "nbconvert_exporter": "python",
   "pygments_lexer": "ipython3",
   "version": "3.9.7"
  }
 },
 "nbformat": 4,
 "nbformat_minor": 5
}
